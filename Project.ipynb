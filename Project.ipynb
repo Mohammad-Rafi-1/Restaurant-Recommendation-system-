{
    "metadata": {
        "kernelspec": {
            "name": "python3",
            "display_name": "Python 3 (ipykernel)",
            "language": "python"
        }
    },
    "nbformat": 4,
    "nbformat_minor": 0,
    "cells": [
        {
            "attachments": {},
            "cell_type": "markdown",
            "metadata": {},
            "source": [
                "![](univ.png)\n",
                "\n",
                "# DS-1: Introduction to Data Science\n",
                "\n",
                "**DS-1 Cohort 2**\u003cbr/\u003e\n",
                "**Univ.AI**\u003cbr/\u003e\n",
                "**Instructor**: Ignacio Becker, Pavlos Protopapas, Rahul Dave\u003cbr/\u003e\n",
                "**Maximum Score**: 100\n",
                "\n",
                "**NAMES**: \n",
                "**M**AHIMA\n",
                "**A**MAN\n",
                "**R**AFI\n",
                "**K**ARTHIGA\n",
                "\n",
                "\n",
                "\u003chr style=\"height:2.4pt\"\u003e"
            ]
        },
        {
            "attachments": {},
            "cell_type": "markdown",
            "metadata": {},
            "source": [
                "## [DATASET](https://www.yelp.com/dataset)"
            ]
        },
        {
            "attachments": {},
            "cell_type": "markdown",
            "metadata": {},
            "source": [
                "Link to Notebook:In the edstem\n",
                "\u003cbr\u003eLink to Slides:https://docs.google.com/presentation/d/16E6Matp7-CpBxMEU5Gv7mBgDpuVRxTLF6-VoI5wE00Y/edit?usp=sharing\n",
                "\u003cbr\u003eLink to dataset:https://drive.google.com/drive/folders/1_cs3LPD8H6YKA5XVThUxouQiZ4qxmZh3?usp=sharing\n",
                "\u003cbr\u003eLink to Video Presentation:https://drive.google.com/drive/folders/1GDI0qFS65FJ4_GgqhVSAh7JeMjjD_xdH?usp=sharing\n",
                "\u003cbr\u003eLink to Poster:https://drive.google.com/drive/folders/1uVJMYxM_wh6rPVC2OsdZeVsdS_ux2S-k?usp=sharing"
            ]
        },
        {
            "attachments": {},
            "cell_type": "markdown",
            "metadata": {},
            "source": [
                "# The notebook consist of 3 parts\n",
                "1)Preprocesssing:yelp_data_loading_preprocessing_creatingDB.ipynb\n",
                "\n",
                "\n",
                "2)EDA: EDA-yelp-final.ipynb\n",
                "\n",
                "\n",
                "3)Modeling and conclusion:Model_building.ipynb"
            ]
        },
        {
            "attachments": {},
            "cell_type": "markdown",
            "metadata": {},
            "source": [
                "Note: Remember to run all the cells before submitting to ensure there are no errors. If there is an error during the time of correction, scores will be penalized. "
            ]
        }
    ]
}
